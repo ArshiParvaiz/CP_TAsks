{
 "cells": [
  {
   "cell_type": "code",
   "execution_count": 1,
   "metadata": {},
   "outputs": [
    {
     "data": {
      "text/plain": [
       "<AddedDllDirectory('C:\\\\Users\\\\Arshi\\\\anaconda3\\\\envs\\\\cp\\\\Lib\\\\site-packages\\\\openslide\\\\bin')>"
      ]
     },
     "execution_count": 1,
     "metadata": {},
     "output_type": "execute_result"
    }
   ],
   "source": [
    "import os\n",
    "os.add_dll_directory(\"C:\\\\Users\\\\Arshi\\\\anaconda3\\\\envs\\\\cp\\\\Lib\\\\site-packages\\\\openslide\\\\bin\")\n",
    "\n"
   ]
  },
  {
   "cell_type": "code",
   "execution_count": 3,
   "metadata": {},
   "outputs": [],
   "source": [
    "import openslide\n",
    "import numpy as np\n",
    "import cv2 as cv\n",
    "import random\n",
    "import glob\n",
    "import math\n"
   ]
  },
  {
   "cell_type": "code",
   "execution_count": 4,
   "metadata": {},
   "outputs": [
    {
     "data": {
      "text/plain": [
       "2.0"
      ]
     },
     "execution_count": 4,
     "metadata": {},
     "output_type": "execute_result"
    }
   ],
   "source": [
    "mag = 20 #required magnification\n",
    "slide = openslide.open_slide(\"C:\\\\Users\\\\Arshi\\\\Downloads\\\\DATA\\\\wsi.svs\")\n",
    "base_mag = math.ceil(10.0 / float(slide.properties[openslide.PROPERTY_NAME_MPP_X]))\n",
    "level = base_mag/mag\n",
    "level"
   ]
  },
  {
   "cell_type": "code",
   "execution_count": 5,
   "metadata": {},
   "outputs": [
    {
     "data": {
      "text/plain": [
       "'40'"
      ]
     },
     "execution_count": 5,
     "metadata": {},
     "output_type": "execute_result"
    }
   ],
   "source": [
    "slide.properties[openslide.PROPERTY_NAME_OBJECTIVE_POWER]\n",
    "# 10.0/float(slide.properties[openslide.PROPERTY_NAME_MPP_X])"
   ]
  },
  {
   "cell_type": "code",
   "execution_count": 6,
   "metadata": {},
   "outputs": [
    {
     "data": {
      "text/plain": [
       "((109434, 90504),\n",
       " (1.0, 4.0000365523795605, 16.001438314616664, 32.00521670852582))"
      ]
     },
     "execution_count": 6,
     "metadata": {},
     "output_type": "execute_result"
    }
   ],
   "source": [
    "slide.dimensions, slide.level_downsamples"
   ]
  },
  {
   "cell_type": "code",
   "execution_count": 7,
   "metadata": {},
   "outputs": [
    {
     "data": {
      "text/plain": [
       "4"
      ]
     },
     "execution_count": 7,
     "metadata": {},
     "output_type": "execute_result"
    }
   ],
   "source": [
    "slide.level_count"
   ]
  },
  {
   "cell_type": "code",
   "execution_count": 8,
   "metadata": {},
   "outputs": [
    {
     "data": {
      "text/plain": [
       "((109434, 90504), (27358, 22626), (6839, 5656), (3419, 2828))"
      ]
     },
     "execution_count": 8,
     "metadata": {},
     "output_type": "execute_result"
    }
   ],
   "source": [
    "slide.level_dimensions"
   ]
  },
  {
   "cell_type": "code",
   "execution_count": 20,
   "metadata": {},
   "outputs": [],
   "source": [
    "\n",
    "def generate_patches(slidepath,save_path,level, patch_size):\n",
    "    k = 1\n",
    "    slide = slide = openslide.open_slide(slidepath)\n",
    "    for i in range(30):\n",
    "        for j in range(30):\n",
    "            offsetx = j*patch_size\n",
    "            offsety = i*patch_size\n",
    "            patchimg = slide.read_region((offsetx, offsety), level, (patch_size, patch_size))  \n",
    "            image_path = save_path + str(k) + \".jpg\"\n",
    "            cv.imwrite(image_path, np.array(patchimg))\n",
    "            k= k+1"
   ]
  },
  {
   "cell_type": "code",
   "execution_count": 13,
   "metadata": {},
   "outputs": [
    {
     "data": {
      "text/plain": [
       "1.0"
      ]
     },
     "execution_count": 13,
     "metadata": {},
     "output_type": "execute_result"
    }
   ],
   "source": [
    "slide = openslide.open_slide(\"C:\\\\Users\\\\Arshi\\\\Downloads\\\\DATA\\\\wsi.svs\")\n",
    "base_mag = math.ceil(10.0 / float(slide.properties[openslide.PROPERTY_NAME_MPP_X]))\n",
    "level = base_mag/40\n",
    "level "
   ]
  },
  {
   "cell_type": "code",
   "execution_count": 14,
   "metadata": {},
   "outputs": [],
   "source": [
    "save_path = \"C:\\\\Users\\\\Arshi\\\\Downloads\\\\DATA\\\\mag-40\\\\mag-40-\"\n",
    "slide_path = \"C:\\\\Users\\\\Arshi\\\\Downloads\\\\DATA\\\\wsi.svs\"\n",
    "generate_patches(slide_path,save_path,0, 4096)"
   ]
  },
  {
   "cell_type": "code",
   "execution_count": 21,
   "metadata": {},
   "outputs": [],
   "source": [
    "save_path = \"C:\\\\Users\\\\Arshi\\\\Downloads\\\\DATA\\\\mag-20\\\\mag-20-\"\n",
    "slide_path = \"C:\\\\Users\\\\Arshi\\\\Downloads\\\\DATA\\\\wsi.svs\"\n",
    "generate_patches(slide_path,save_path,1, 1024)"
   ]
  },
  {
   "cell_type": "code",
   "execution_count": 23,
   "metadata": {},
   "outputs": [],
   "source": [
    "save_path = \"C:\\\\Users\\\\Arshi\\\\Downloads\\\\DATA\\\\test\\\\mag-20-\"\n",
    "slide_path = \"C:\\\\Users\\\\Arshi\\\\Downloads\\\\DATA\\\\wsi.svs\"\n",
    "generate_patches(slide_path,save_path,0, 1024)"
   ]
  },
  {
   "cell_type": "markdown",
   "metadata": {},
   "source": [
    "# Findings\n"
   ]
  },
  {
   "cell_type": "markdown",
   "metadata": {},
   "source": [
    "-> More computation time was take by the larger patch size\n",
    "-> Overlap between patches with the lower magnification i.e. x20\n",
    "-> Object with high magnification could be zoom out to greater extent before it get blured as compared to lower magnification power"
   ]
  }
 ],
 "metadata": {
  "kernelspec": {
   "display_name": "Python 3 (ipykernel)",
   "language": "python",
   "name": "python3"
  },
  "language_info": {
   "codemirror_mode": {
    "name": "ipython",
    "version": 3
   },
   "file_extension": ".py",
   "mimetype": "text/x-python",
   "name": "python",
   "nbconvert_exporter": "python",
   "pygments_lexer": "ipython3",
   "version": "3.8.11"
  }
 },
 "nbformat": 4,
 "nbformat_minor": 4
}
